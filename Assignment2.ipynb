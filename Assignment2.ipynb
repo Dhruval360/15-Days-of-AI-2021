{
  "nbformat": 4,
  "nbformat_minor": 0,
  "metadata": {
    "colab": {
      "name": "Assignment2.ipynb",
      "provenance": []
    },
    "kernelspec": {
      "name": "python3",
      "display_name": "Python 3"
    },
    "language_info": {
      "name": "python"
    }
  },
  "cells": [
    {
      "cell_type": "markdown",
      "metadata": {
        "id": "KbhBletO00me"
      },
      "source": [
        "# **Image Classification on FMNIST dataset using keras**"
      ]
    },
    {
      "cell_type": "markdown",
      "metadata": {
        "id": "8YXbWEDIvDtN"
      },
      "source": [
        "#Import libraries & Load the Dataset"
      ]
    },
    {
      "cell_type": "code",
      "metadata": {
        "id": "A0ezlAE5-WsR"
      },
      "source": [
        "import tensorflow as tf\n",
        "from tensorflow.python.keras.models import Sequential\n",
        "from tensorflow.python.keras.layers import Dense, Flatten, Conv2D, Dropout, MaxPooling2D\n",
        "import numpy as np\n",
        "import matplotlib.pyplot as plt\n",
        "import pandas as pd"
      ],
      "execution_count": null,
      "outputs": []
    },
    {
      "cell_type": "markdown",
      "metadata": {
        "id": "1TVqOS49vBa5"
      },
      "source": [
        ""
      ]
    },
    {
      "cell_type": "code",
      "metadata": {
        "colab": {
          "base_uri": "https://localhost:8080/"
        },
        "id": "chNxquuq-qfw",
        "outputId": "b9685f55-c68f-4686-e005-8cd0a83847da"
      },
      "source": [
        "mnist= tf.keras.datasets.fashion_mnist\n",
        "mnist"
      ],
      "execution_count": null,
      "outputs": [
        {
          "output_type": "execute_result",
          "data": {
            "text/plain": [
              "<module 'tensorflow.keras.datasets.fashion_mnist' from '/usr/local/lib/python3.7/dist-packages/tensorflow/keras/datasets/fashion_mnist/__init__.py'>"
            ]
          },
          "metadata": {
            "tags": []
          },
          "execution_count": 2
        }
      ]
    },
    {
      "cell_type": "markdown",
      "metadata": {
        "id": "OgorLvGFvQMT"
      },
      "source": [
        "#Train-Test Split"
      ]
    },
    {
      "cell_type": "code",
      "metadata": {
        "id": "YtNNuXSM-0oc",
        "colab": {
          "base_uri": "https://localhost:8080/"
        },
        "outputId": "3969fbfe-a3e4-442a-ca3f-69d13328bc40"
      },
      "source": [
        "(train_x,train_y),(test_x,test_y)=mnist.load_data()"
      ],
      "execution_count": null,
      "outputs": [
        {
          "output_type": "stream",
          "text": [
            "Downloading data from https://storage.googleapis.com/tensorflow/tf-keras-datasets/train-labels-idx1-ubyte.gz\n",
            "32768/29515 [=================================] - 0s 0us/step\n",
            "Downloading data from https://storage.googleapis.com/tensorflow/tf-keras-datasets/train-images-idx3-ubyte.gz\n",
            "26427392/26421880 [==============================] - 0s 0us/step\n",
            "Downloading data from https://storage.googleapis.com/tensorflow/tf-keras-datasets/t10k-labels-idx1-ubyte.gz\n",
            "8192/5148 [===============================================] - 0s 0us/step\n",
            "Downloading data from https://storage.googleapis.com/tensorflow/tf-keras-datasets/t10k-images-idx3-ubyte.gz\n",
            "4423680/4422102 [==============================] - 0s 0us/step\n"
          ],
          "name": "stdout"
        }
      ]
    },
    {
      "cell_type": "code",
      "metadata": {
        "id": "uY9W8TS1_Xl6"
      },
      "source": [
        "class_names=['T-shirt/top','Trouser','Pullover','Dress','Coat','Sandal','Shirt','Sneaker','Bag','Ankle boot']\n"
      ],
      "execution_count": null,
      "outputs": []
    },
    {
      "cell_type": "code",
      "metadata": {
        "colab": {
          "base_uri": "https://localhost:8080/"
        },
        "id": "UqaYpdzaKbyn",
        "outputId": "77f437f9-f0de-4c5e-948d-fdd82cc734d7"
      },
      "source": [
        "train_x"
      ],
      "execution_count": null,
      "outputs": [
        {
          "output_type": "execute_result",
          "data": {
            "text/plain": [
              "array([[[0, 0, 0, ..., 0, 0, 0],\n",
              "        [0, 0, 0, ..., 0, 0, 0],\n",
              "        [0, 0, 0, ..., 0, 0, 0],\n",
              "        ...,\n",
              "        [0, 0, 0, ..., 0, 0, 0],\n",
              "        [0, 0, 0, ..., 0, 0, 0],\n",
              "        [0, 0, 0, ..., 0, 0, 0]],\n",
              "\n",
              "       [[0, 0, 0, ..., 0, 0, 0],\n",
              "        [0, 0, 0, ..., 0, 0, 0],\n",
              "        [0, 0, 0, ..., 0, 0, 0],\n",
              "        ...,\n",
              "        [0, 0, 0, ..., 0, 0, 0],\n",
              "        [0, 0, 0, ..., 0, 0, 0],\n",
              "        [0, 0, 0, ..., 0, 0, 0]],\n",
              "\n",
              "       [[0, 0, 0, ..., 0, 0, 0],\n",
              "        [0, 0, 0, ..., 0, 0, 0],\n",
              "        [0, 0, 0, ..., 0, 0, 0],\n",
              "        ...,\n",
              "        [0, 0, 0, ..., 0, 0, 0],\n",
              "        [0, 0, 0, ..., 0, 0, 0],\n",
              "        [0, 0, 0, ..., 0, 0, 0]],\n",
              "\n",
              "       ...,\n",
              "\n",
              "       [[0, 0, 0, ..., 0, 0, 0],\n",
              "        [0, 0, 0, ..., 0, 0, 0],\n",
              "        [0, 0, 0, ..., 0, 0, 0],\n",
              "        ...,\n",
              "        [0, 0, 0, ..., 0, 0, 0],\n",
              "        [0, 0, 0, ..., 0, 0, 0],\n",
              "        [0, 0, 0, ..., 0, 0, 0]],\n",
              "\n",
              "       [[0, 0, 0, ..., 0, 0, 0],\n",
              "        [0, 0, 0, ..., 0, 0, 0],\n",
              "        [0, 0, 0, ..., 0, 0, 0],\n",
              "        ...,\n",
              "        [0, 0, 0, ..., 0, 0, 0],\n",
              "        [0, 0, 0, ..., 0, 0, 0],\n",
              "        [0, 0, 0, ..., 0, 0, 0]],\n",
              "\n",
              "       [[0, 0, 0, ..., 0, 0, 0],\n",
              "        [0, 0, 0, ..., 0, 0, 0],\n",
              "        [0, 0, 0, ..., 0, 0, 0],\n",
              "        ...,\n",
              "        [0, 0, 0, ..., 0, 0, 0],\n",
              "        [0, 0, 0, ..., 0, 0, 0],\n",
              "        [0, 0, 0, ..., 0, 0, 0]]], dtype=uint8)"
            ]
          },
          "metadata": {
            "tags": []
          },
          "execution_count": 5
        }
      ]
    },
    {
      "cell_type": "code",
      "metadata": {
        "colab": {
          "base_uri": "https://localhost:8080/"
        },
        "id": "JCVzq3Cj_9PA",
        "outputId": "d535f4c6-82c3-4f1c-924c-c33d9b6a390b"
      },
      "source": [
        "train_x.shape"
      ],
      "execution_count": null,
      "outputs": [
        {
          "output_type": "execute_result",
          "data": {
            "text/plain": [
              "(60000, 28, 28)"
            ]
          },
          "metadata": {
            "tags": []
          },
          "execution_count": 6
        }
      ]
    },
    {
      "cell_type": "code",
      "metadata": {
        "colab": {
          "base_uri": "https://localhost:8080/"
        },
        "id": "kdzVnIslCj7N",
        "outputId": "e17db7b3-b065-47d2-cdef-260cfe80bec9"
      },
      "source": [
        "test_x.shape"
      ],
      "execution_count": null,
      "outputs": [
        {
          "output_type": "execute_result",
          "data": {
            "text/plain": [
              "(10000, 28, 28)"
            ]
          },
          "metadata": {
            "tags": []
          },
          "execution_count": 7
        }
      ]
    },
    {
      "cell_type": "code",
      "metadata": {
        "colab": {
          "base_uri": "https://localhost:8080/"
        },
        "id": "h_jL_nkWDkgb",
        "outputId": "69281991-bdb5-4f23-bb98-21894b2e1e78"
      },
      "source": [
        "train_y"
      ],
      "execution_count": null,
      "outputs": [
        {
          "output_type": "execute_result",
          "data": {
            "text/plain": [
              "array([9, 0, 0, ..., 3, 0, 5], dtype=uint8)"
            ]
          },
          "metadata": {
            "tags": []
          },
          "execution_count": 8
        }
      ]
    },
    {
      "cell_type": "code",
      "metadata": {
        "colab": {
          "base_uri": "https://localhost:8080/",
          "height": 203
        },
        "id": "Lvq0O_2BCqis",
        "outputId": "877186d0-95ed-49bc-b05e-bcc5eb4f8b26"
      },
      "source": [
        "labels= pd.DataFrame({'label':train_y})\n",
        "labels.head()"
      ],
      "execution_count": null,
      "outputs": [
        {
          "output_type": "execute_result",
          "data": {
            "text/html": [
              "<div>\n",
              "<style scoped>\n",
              "    .dataframe tbody tr th:only-of-type {\n",
              "        vertical-align: middle;\n",
              "    }\n",
              "\n",
              "    .dataframe tbody tr th {\n",
              "        vertical-align: top;\n",
              "    }\n",
              "\n",
              "    .dataframe thead th {\n",
              "        text-align: right;\n",
              "    }\n",
              "</style>\n",
              "<table border=\"1\" class=\"dataframe\">\n",
              "  <thead>\n",
              "    <tr style=\"text-align: right;\">\n",
              "      <th></th>\n",
              "      <th>label</th>\n",
              "    </tr>\n",
              "  </thead>\n",
              "  <tbody>\n",
              "    <tr>\n",
              "      <th>0</th>\n",
              "      <td>9</td>\n",
              "    </tr>\n",
              "    <tr>\n",
              "      <th>1</th>\n",
              "      <td>0</td>\n",
              "    </tr>\n",
              "    <tr>\n",
              "      <th>2</th>\n",
              "      <td>0</td>\n",
              "    </tr>\n",
              "    <tr>\n",
              "      <th>3</th>\n",
              "      <td>3</td>\n",
              "    </tr>\n",
              "    <tr>\n",
              "      <th>4</th>\n",
              "      <td>0</td>\n",
              "    </tr>\n",
              "  </tbody>\n",
              "</table>\n",
              "</div>"
            ],
            "text/plain": [
              "   label\n",
              "0      9\n",
              "1      0\n",
              "2      0\n",
              "3      3\n",
              "4      0"
            ]
          },
          "metadata": {
            "tags": []
          },
          "execution_count": 9
        }
      ]
    },
    {
      "cell_type": "code",
      "metadata": {
        "colab": {
          "base_uri": "https://localhost:8080/"
        },
        "id": "_sXGYLaQ3TsS",
        "outputId": "330b6cd7-fc4d-490b-d36e-47d34cbfc672"
      },
      "source": [
        "label_counts=labels['label'].value_counts()\n",
        "for i in range(len(label_counts)):\n",
        "  label=class_names[label_counts.index[i]]\n",
        "  count=label_counts.values[i]\n",
        "  print(\"{:<20s}:   {}\".format(label, count))"
      ],
      "execution_count": null,
      "outputs": [
        {
          "output_type": "stream",
          "text": [
            "Ankle boot          :   6000\n",
            "Bag                 :   6000\n",
            "Sneaker             :   6000\n",
            "Shirt               :   6000\n",
            "Sandal              :   6000\n",
            "Coat                :   6000\n",
            "Dress               :   6000\n",
            "Pullover            :   6000\n",
            "Trouser             :   6000\n",
            "T-shirt/top         :   6000\n"
          ],
          "name": "stdout"
        }
      ]
    },
    {
      "cell_type": "code",
      "metadata": {
        "id": "ZuWh8AvHIq7l"
      },
      "source": [
        "train_x=train_x/255.0\n",
        "test_x=test_x/255.0"
      ],
      "execution_count": null,
      "outputs": []
    },
    {
      "cell_type": "code",
      "metadata": {
        "colab": {
          "base_uri": "https://localhost:8080/",
          "height": 589
        },
        "id": "HKPOcFjNJoYn",
        "outputId": "81965b2d-37f5-4f12-cb8e-fec43ba4a798"
      },
      "source": [
        "plt.figure(figsize=(10,10))\n",
        "for i in range(25):\n",
        "  plt.subplot(5,5,i+1)\n",
        "  plt.xticks([])\n",
        "  plt.yticks([])\n",
        "  plt.grid(False)\n",
        "  plt.imshow(train_x[i],cmap=plt.cm.binary)\n",
        "  plt.xlabel(class_names[train_y[i]])\n",
        "plt.show()"
      ],
      "execution_count": null,
      "outputs": [
        {
          "output_type": "display_data",
          "data": {
            "image/png": "[encoded data removed]",
            "text/plain": [
              "<Figure size 720x720 with 25 Axes>"
            ]
          },
          "metadata": {
            "tags": []
          }
        }
      ]
    },
    {
      "cell_type": "markdown",
      "metadata": {
        "id": "o2JJUJt5vZdH"
      },
      "source": [
        "#Create Neural Network"
      ]
    },
    {
      "cell_type": "code",
      "metadata": {
        "id": "ITlxE2kc9LR3"
      },
      "source": [
        "model=Sequential()\n",
        "model.add(Flatten(input_shape=(28,28)))\n",
        "model.add(Dense(128,activation='relu'))\n",
        "model.add(Dropout(0.3))\n",
        "model.add(Dense(10,activation='softmax'))\n",
        "model.compile(loss='sparse_categorical_crossentropy',optimizer='adam',metrics=['accuracy'])"
      ],
      "execution_count": null,
      "outputs": []
    },
    {
      "cell_type": "code",
      "metadata": {
        "colab": {
          "base_uri": "https://localhost:8080/"
        },
        "id": "KHj2uBKL_sD1",
        "outputId": "930fce91-9ec9-4534-dbdc-72fde753a7f8"
      },
      "source": [
        "model.summary()"
      ],
      "execution_count": null,
      "outputs": [
        {
          "output_type": "stream",
          "text": [
            "Model: \"sequential\"\n",
            "_________________________________________________________________\n",
            "Layer (type)                 Output Shape              Param #   \n",
            "=================================================================\n",
            "flatten (Flatten)            (None, 784)               0         \n",
            "_________________________________________________________________\n",
            "dense (Dense)                (None, 128)               100480    \n",
            "_________________________________________________________________\n",
            "dropout (Dropout)            (None, 128)               0         \n",
            "_________________________________________________________________\n",
            "dense_1 (Dense)              (None, 10)                1290      \n",
            "=================================================================\n",
            "Total params: 101,770\n",
            "Trainable params: 101,770\n",
            "Non-trainable params: 0\n",
            "_________________________________________________________________\n"
          ],
          "name": "stdout"
        }
      ]
    },
    {
      "cell_type": "markdown",
      "metadata": {
        "id": "ffo4P44PviJj"
      },
      "source": [
        "#Training the model"
      ]
    },
    {
      "cell_type": "code",
      "metadata": {
        "colab": {
          "base_uri": "https://localhost:8080/"
        },
        "id": "2tmJxEgVAm42",
        "outputId": "c92f7c73-b508-4247-efe5-b3fdd9c56f56"
      },
      "source": [
        "history= model.fit(train_x,train_y,epochs=20,validation_split=0.2,verbose=1)"
      ],
      "execution_count": null,
      "outputs": [
        {
          "output_type": "stream",
          "text": [
            "Epoch 1/20\n",
            "1500/1500 [==============================] - 4s 3ms/step - loss: 0.5787 - accuracy: 0.7958 - val_loss: 0.4216 - val_accuracy: 0.8505\n",
            "Epoch 2/20\n",
            "1500/1500 [==============================] - 4s 2ms/step - loss: 0.4343 - accuracy: 0.8421 - val_loss: 0.3937 - val_accuracy: 0.8585\n",
            "Epoch 3/20\n",
            "1500/1500 [==============================] - 4s 2ms/step - loss: 0.3982 - accuracy: 0.8548 - val_loss: 0.3677 - val_accuracy: 0.8676\n",
            "Epoch 4/20\n",
            "1500/1500 [==============================] - 4s 2ms/step - loss: 0.3741 - accuracy: 0.8650 - val_loss: 0.3501 - val_accuracy: 0.8724\n",
            "Epoch 5/20\n",
            "1500/1500 [==============================] - 3s 2ms/step - loss: 0.3571 - accuracy: 0.8703 - val_loss: 0.3502 - val_accuracy: 0.8707\n",
            "Epoch 6/20\n",
            "1500/1500 [==============================] - 3s 2ms/step - loss: 0.3442 - accuracy: 0.8743 - val_loss: 0.3324 - val_accuracy: 0.8798\n",
            "Epoch 7/20\n",
            "1500/1500 [==============================] - 3s 2ms/step - loss: 0.3361 - accuracy: 0.8766 - val_loss: 0.3361 - val_accuracy: 0.8793\n",
            "Epoch 8/20\n",
            "1500/1500 [==============================] - 4s 2ms/step - loss: 0.3263 - accuracy: 0.8787 - val_loss: 0.3300 - val_accuracy: 0.8814\n",
            "Epoch 9/20\n",
            "1500/1500 [==============================] - 4s 2ms/step - loss: 0.3197 - accuracy: 0.8828 - val_loss: 0.3418 - val_accuracy: 0.8795\n",
            "Epoch 10/20\n",
            "1500/1500 [==============================] - 4s 2ms/step - loss: 0.3100 - accuracy: 0.8841 - val_loss: 0.3275 - val_accuracy: 0.8808\n",
            "Epoch 11/20\n",
            "1500/1500 [==============================] - 4s 3ms/step - loss: 0.3027 - accuracy: 0.8882 - val_loss: 0.3236 - val_accuracy: 0.8831\n",
            "Epoch 12/20\n",
            "1500/1500 [==============================] - 4s 2ms/step - loss: 0.2977 - accuracy: 0.8876 - val_loss: 0.3206 - val_accuracy: 0.8863\n",
            "Epoch 13/20\n",
            "1500/1500 [==============================] - 3s 2ms/step - loss: 0.2914 - accuracy: 0.8909 - val_loss: 0.3247 - val_accuracy: 0.8845\n",
            "Epoch 14/20\n",
            "1500/1500 [==============================] - 3s 2ms/step - loss: 0.2886 - accuracy: 0.8940 - val_loss: 0.3145 - val_accuracy: 0.8860\n",
            "Epoch 15/20\n",
            "1500/1500 [==============================] - 3s 2ms/step - loss: 0.2837 - accuracy: 0.8934 - val_loss: 0.3228 - val_accuracy: 0.8849\n",
            "Epoch 16/20\n",
            "1500/1500 [==============================] - 3s 2ms/step - loss: 0.2767 - accuracy: 0.8952 - val_loss: 0.3233 - val_accuracy: 0.8884\n",
            "Epoch 17/20\n",
            "1500/1500 [==============================] - 4s 2ms/step - loss: 0.2743 - accuracy: 0.8956 - val_loss: 0.3183 - val_accuracy: 0.8865\n",
            "Epoch 18/20\n",
            "1500/1500 [==============================] - 4s 2ms/step - loss: 0.2705 - accuracy: 0.8989 - val_loss: 0.3161 - val_accuracy: 0.8885\n",
            "Epoch 19/20\n",
            "1500/1500 [==============================] - 4s 2ms/step - loss: 0.2677 - accuracy: 0.8993 - val_loss: 0.3139 - val_accuracy: 0.8892\n",
            "Epoch 20/20\n",
            "1500/1500 [==============================] - 4s 3ms/step - loss: 0.2625 - accuracy: 0.9031 - val_loss: 0.3148 - val_accuracy: 0.8878\n"
          ],
          "name": "stdout"
        }
      ]
    },
    {
      "cell_type": "markdown",
      "metadata": {
        "id": "F9mqAsIEvnXv"
      },
      "source": [
        "#Model Analysis"
      ]
    },
    {
      "cell_type": "code",
      "metadata": {
        "id": "F8Edg5DdBD1Q"
      },
      "source": [
        "import plotly.graph_objs as go\n",
        "import plotly.figure_factory as ff\n",
        "from plotly import tools\n",
        "from plotly.offline import download_plotlyjs, init_notebook_mode, plot, iplot\n",
        "def create_trace(x,y,ylabel,color):\n",
        "        trace = go.Scatter(\n",
        "            x = x,y = y,\n",
        "            name=ylabel,\n",
        "            marker=dict(color=color),\n",
        "            mode = \"markers+lines\",\n",
        "            text=x\n",
        "        )\n",
        "        return trace\n",
        "def plot_accuracy_and_loss(train_model):\n",
        "    hist = train_model.history\n",
        "    acc = hist['accuracy']\n",
        "    val_acc = hist['val_accuracy']\n",
        "    loss = hist['loss']\n",
        "    val_loss = hist['val_loss']\n",
        "    epochs = list(range(1,len(acc)+1))\n",
        "    \n",
        "    trace_ta = create_trace(epochs,acc,\"Training accuracy\", \"Green\")\n",
        "    trace_va = create_trace(epochs,val_acc,\"Validation accuracy\", \"Red\")\n",
        "    trace_tl = create_trace(epochs,loss,\"Training loss\", \"Blue\")\n",
        "    trace_vl = create_trace(epochs,val_loss,\"Validation loss\", \"Magenta\")\n",
        "   \n",
        "    fig = tools.make_subplots(rows=1,cols=2, subplot_titles=('Training and validation accuracy',\n",
        "                                                             'Training and validation loss'))\n",
        "    fig.append_trace(trace_ta,1,1)\n",
        "    fig.append_trace(trace_va,1,1)\n",
        "    fig.append_trace(trace_tl,1,2)\n",
        "    fig.append_trace(trace_vl,1,2)\n",
        "    fig['layout']['xaxis'].update(title = 'Epoch')\n",
        "    fig['layout']['xaxis2'].update(title = 'Epoch')\n",
        "    fig['layout']['yaxis'].update(title = 'Accuracy', range=[0,1])\n",
        "    fig['layout']['yaxis2'].update(title = 'Loss', range=[0,1])\n",
        "    iplot(fig, filename='accuracy-loss')\n"
      ],
      "execution_count": null,
      "outputs": []
    },
    {
      "cell_type": "code",
      "metadata": {
        "colab": {
          "base_uri": "https://localhost:8080/",
          "height": 610
        },
        "id": "t1GeAHJ1Eids",
        "outputId": "25bdd946-71dd-4f7c-f9bd-8b28fb8af965"
      },
      "source": [
        "plot_accuracy_and_loss(history)"
      ],
      "execution_count": null,
      "outputs": [
        {
          "output_type": "stream",
          "text": [
            "/usr/local/lib/python3.7/dist-packages/plotly/tools.py:465: DeprecationWarning:\n",
            "\n",
            "plotly.tools.make_subplots is deprecated, please use plotly.subplots.make_subplots instead\n",
            "\n"
          ],
          "name": "stderr"
        },
        {
          "output_type": "display_data",
          "data": {
            "text/html": [
              "<html>\n",
              "<head><meta charset=\"utf-8\" /></head>\n",
              "<body>\n",
              "    <div>\n",
              "            <script src=\"https://cdnjs.cloudflare.com/ajax/libs/mathjax/2.7.5/MathJax.js?config=TeX-AMS-MML_SVG\"></script><script type=\"text/javascript\">if (window.MathJax) {MathJax.Hub.Config({SVG: {font: \"STIX-Web\"}});}</script>\n",
              "                <script type=\"text/javascript\">window.PlotlyConfig = {MathJaxConfig: 'local'};</script>\n",
              "        <script src=\"https://cdn.plot.ly/plotly-latest.min.js\"></script>    \n",
              "            <div id=\"9bee8831-fa4b-4eec-a51d-83e6bd961af4\" class=\"plotly-graph-div\" style=\"height:525px; width:100%;\"></div>\n",
              "            <script type=\"text/javascript\">\n",
              "                \n",
              "                    window.PLOTLYENV=window.PLOTLYENV || {};\n",
              "                    \n",
              "                if (document.getElementById(\"9bee8831-fa4b-4eec-a51d-83e6bd961af4\")) {\n",
              "                    Plotly.newPlot(\n",
              "                        '9bee8831-fa4b-4eec-a51d-83e6bd961af4',\n",
              "                        [{\"marker\": {\"color\": \"Green\"}, \"mode\": \"markers+lines\", \"name\": \"Training accuracy\", \"text\": [\"1\", \"2\", \"3\", \"4\", \"5\", \"6\", \"7\", \"8\", \"9\", \"10\", \"11\", \"12\", \"13\", \"14\", \"15\", \"16\", \"17\", \"18\", \"19\", \"20\"], \"type\": \"scatter\", \"x\": [1, 2, 3, 4, 5, 6, 7, 8, 9, 10, 11, 12, 13, 14, 15, 16, 17, 18, 19, 20], \"xaxis\": \"x\", \"y\": [0.7957500219345093, 0.8420833349227905, 0.854812502861023, 0.8649583458900452, 0.8702916502952576, 0.8743333220481873, 0.8765833377838135, 0.8787083625793457, 0.8827916383743286, 0.8840625286102295, 0.8881875276565552, 0.8876041769981384, 0.890874981880188, 0.893958330154419, 0.8933541774749756, 0.895229160785675, 0.8955833315849304, 0.8989166617393494, 0.8992916941642761, 0.903124988079071], \"yaxis\": \"y\"}, {\"marker\": {\"color\": \"Red\"}, \"mode\": \"markers+lines\", \"name\": \"Validation accuracy\", \"text\": [\"1\", \"2\", \"3\", \"4\", \"5\", \"6\", \"7\", \"8\", \"9\", \"10\", \"11\", \"12\", \"13\", \"14\", \"15\", \"16\", \"17\", \"18\", \"19\", \"20\"], \"type\": \"scatter\", \"x\": [1, 2, 3, 4, 5, 6, 7, 8, 9, 10, 11, 12, 13, 14, 15, 16, 17, 18, 19, 20], \"xaxis\": \"x\", \"y\": [0.8504999876022339, 0.8585000038146973, 0.8675833344459534, 0.8724166750907898, 0.8706666827201843, 0.8798333406448364, 0.8793333172798157, 0.8814166784286499, 0.8794999718666077, 0.8808333277702332, 0.8830833435058594, 0.8863333463668823, 0.8845000267028809, 0.8859999775886536, 0.8849166631698608, 0.8884166479110718, 0.8865000009536743, 0.8884999752044678, 0.8891666531562805, 0.8878333568572998], \"yaxis\": \"y\"}, {\"marker\": {\"color\": \"Blue\"}, \"mode\": \"markers+lines\", \"name\": \"Training loss\", \"text\": [\"1\", \"2\", \"3\", \"4\", \"5\", \"6\", \"7\", \"8\", \"9\", \"10\", \"11\", \"12\", \"13\", \"14\", \"15\", \"16\", \"17\", \"18\", \"19\", \"20\"], \"type\": \"scatter\", \"x\": [1, 2, 3, 4, 5, 6, 7, 8, 9, 10, 11, 12, 13, 14, 15, 16, 17, 18, 19, 20], \"xaxis\": \"x2\", \"y\": [0.5786671042442322, 0.4342682659626007, 0.3981590270996094, 0.3741177022457123, 0.35712406039237976, 0.3441770374774933, 0.336112916469574, 0.32634788751602173, 0.31969183683395386, 0.30997392535209656, 0.3026697337627411, 0.2977280914783478, 0.2913666367530823, 0.2885688841342926, 0.28365790843963623, 0.27674928307533264, 0.2742992043495178, 0.27051547169685364, 0.2677386999130249, 0.26249492168426514], \"yaxis\": \"y2\"}, {\"marker\": {\"color\": \"Magenta\"}, \"mode\": \"markers+lines\", \"name\": \"Validation loss\", \"text\": [\"1\", \"2\", \"3\", \"4\", \"5\", \"6\", \"7\", \"8\", \"9\", \"10\", \"11\", \"12\", \"13\", \"14\", \"15\", \"16\", \"17\", \"18\", \"19\", \"20\"], \"type\": \"scatter\", \"x\": [1, 2, 3, 4, 5, 6, 7, 8, 9, 10, 11, 12, 13, 14, 15, 16, 17, 18, 19, 20], \"xaxis\": \"x2\", \"y\": [0.4215756356716156, 0.3936701714992523, 0.3677225410938263, 0.35009679198265076, 0.3501500189304352, 0.33240485191345215, 0.3360527455806732, 0.33000868558883667, 0.3418142795562744, 0.3275018036365509, 0.32364776730537415, 0.32056641578674316, 0.32469403743743896, 0.31449994444847107, 0.3227717876434326, 0.32332900166511536, 0.31831640005111694, 0.31612226366996765, 0.31394100189208984, 0.31476131081581116], \"yaxis\": \"y2\"}],\n",
              "                        {\"annotations\": [{\"font\": {\"size\": 16}, \"showarrow\": false, \"text\": \"Training and validation accuracy\", \"x\": 0.225, \"xanchor\": \"center\", \"xref\": \"paper\", \"y\": 1.0, \"yanchor\": \"bottom\", \"yref\": \"paper\"}, {\"font\": {\"size\": 16}, \"showarrow\": false, \"text\": \"Training and validation loss\", \"x\": 0.775, \"xanchor\": \"center\", \"xref\": \"paper\", \"y\": 1.0, \"yanchor\": \"bottom\", \"yref\": \"paper\"}], \"template\": {\"data\": {\"bar\": [{\"error_x\": {\"color\": \"#2a3f5f\"}, \"error_y\": {\"color\": \"#2a3f5f\"}, \"marker\": {\"line\": {\"color\": \"#E5ECF6\", \"width\": 0.5}}, \"type\": \"bar\"}], \"barpolar\": [{\"marker\": {\"line\": {\"color\": \"#E5ECF6\", \"width\": 0.5}}, \"type\": \"barpolar\"}], \"carpet\": [{\"aaxis\": {\"endlinecolor\": \"#2a3f5f\", \"gridcolor\": \"white\", \"linecolor\": \"white\", \"minorgridcolor\": \"white\", \"startlinecolor\": \"#2a3f5f\"}, \"baxis\": {\"endlinecolor\": \"#2a3f5f\", \"gridcolor\": \"white\", \"linecolor\": \"white\", \"minorgridcolor\": \"white\", \"startlinecolor\": \"#2a3f5f\"}, \"type\": \"carpet\"}], \"choropleth\": [{\"colorbar\": {\"outlinewidth\": 0, \"ticks\": \"\"}, \"type\": \"choropleth\"}], \"contour\": [{\"colorbar\": {\"outlinewidth\": 0, \"ticks\": \"\"}, \"colorscale\": [[0.0, \"#0d0887\"], [0.1111111111111111, \"#46039f\"], [0.2222222222222222, \"#7201a8\"], [0.3333333333333333, \"#9c179e\"], [0.4444444444444444, \"#bd3786\"], [0.5555555555555556, \"#d8576b\"], [0.6666666666666666, \"#ed7953\"], [0.7777777777777778, \"#fb9f3a\"], [0.8888888888888888, \"#fdca26\"], [1.0, \"#f0f921\"]], \"type\": \"contour\"}], \"contourcarpet\": [{\"colorbar\": {\"outlinewidth\": 0, \"ticks\": \"\"}, \"type\": \"contourcarpet\"}], \"heatmap\": [{\"colorbar\": {\"outlinewidth\": 0, \"ticks\": \"\"}, \"colorscale\": [[0.0, \"#0d0887\"], [0.1111111111111111, \"#46039f\"], [0.2222222222222222, \"#7201a8\"], [0.3333333333333333, \"#9c179e\"], [0.4444444444444444, \"#bd3786\"], [0.5555555555555556, \"#d8576b\"], [0.6666666666666666, \"#ed7953\"], [0.7777777777777778, \"#fb9f3a\"], [0.8888888888888888, \"#fdca26\"], [1.0, \"#f0f921\"]], \"type\": \"heatmap\"}], \"heatmapgl\": [{\"colorbar\": {\"outlinewidth\": 0, \"ticks\": \"\"}, \"colorscale\": [[0.0, \"#0d0887\"], [0.1111111111111111, \"#46039f\"], [0.2222222222222222, \"#7201a8\"], [0.3333333333333333, \"#9c179e\"], [0.4444444444444444, \"#bd3786\"], [0.5555555555555556, \"#d8576b\"], [0.6666666666666666, \"#ed7953\"], [0.7777777777777778, \"#fb9f3a\"], [0.8888888888888888, \"#fdca26\"], [1.0, \"#f0f921\"]], \"type\": \"heatmapgl\"}], \"histogram\": [{\"marker\": {\"colorbar\": {\"outlinewidth\": 0, \"ticks\": \"\"}}, \"type\": \"histogram\"}], \"histogram2d\": [{\"colorbar\": {\"outlinewidth\": 0, \"ticks\": \"\"}, \"colorscale\": [[0.0, \"#0d0887\"], [0.1111111111111111, \"#46039f\"], [0.2222222222222222, \"#7201a8\"], [0.3333333333333333, \"#9c179e\"], [0.4444444444444444, \"#bd3786\"], [0.5555555555555556, \"#d8576b\"], [0.6666666666666666, \"#ed7953\"], [0.7777777777777778, \"#fb9f3a\"], [0.8888888888888888, \"#fdca26\"], [1.0, \"#f0f921\"]], \"type\": \"histogram2d\"}], \"histogram2dcontour\": [{\"colorbar\": {\"outlinewidth\": 0, \"ticks\": \"\"}, \"colorscale\": [[0.0, \"#0d0887\"], [0.1111111111111111, \"#46039f\"], [0.2222222222222222, \"#7201a8\"], [0.3333333333333333, \"#9c179e\"], [0.4444444444444444, \"#bd3786\"], [0.5555555555555556, \"#d8576b\"], [0.6666666666666666, \"#ed7953\"], [0.7777777777777778, \"#fb9f3a\"], [0.8888888888888888, \"#fdca26\"], [1.0, \"#f0f921\"]], \"type\": \"histogram2dcontour\"}], \"mesh3d\": [{\"colorbar\": {\"outlinewidth\": 0, \"ticks\": \"\"}, \"type\": \"mesh3d\"}], \"parcoords\": [{\"line\": {\"colorbar\": {\"outlinewidth\": 0, \"ticks\": \"\"}}, \"type\": \"parcoords\"}], \"pie\": [{\"automargin\": true, \"type\": \"pie\"}], \"scatter\": [{\"marker\": {\"colorbar\": {\"outlinewidth\": 0, \"ticks\": \"\"}}, \"type\": \"scatter\"}], \"scatter3d\": [{\"line\": {\"colorbar\": {\"outlinewidth\": 0, \"ticks\": \"\"}}, \"marker\": {\"colorbar\": {\"outlinewidth\": 0, \"ticks\": \"\"}}, \"type\": \"scatter3d\"}], \"scattercarpet\": [{\"marker\": {\"colorbar\": {\"outlinewidth\": 0, \"ticks\": \"\"}}, \"type\": \"scattercarpet\"}], \"scattergeo\": [{\"marker\": {\"colorbar\": {\"outlinewidth\": 0, \"ticks\": \"\"}}, \"type\": \"scattergeo\"}], \"scattergl\": [{\"marker\": {\"colorbar\": {\"outlinewidth\": 0, \"ticks\": \"\"}}, \"type\": \"scattergl\"}], \"scattermapbox\": [{\"marker\": {\"colorbar\": {\"outlinewidth\": 0, \"ticks\": \"\"}}, \"type\": \"scattermapbox\"}], \"scatterpolar\": [{\"marker\": {\"colorbar\": {\"outlinewidth\": 0, \"ticks\": \"\"}}, \"type\": \"scatterpolar\"}], \"scatterpolargl\": [{\"marker\": {\"colorbar\": {\"outlinewidth\": 0, \"ticks\": \"\"}}, \"type\": \"scatterpolargl\"}], \"scatterternary\": [{\"marker\": {\"colorbar\": {\"outlinewidth\": 0, \"ticks\": \"\"}}, \"type\": \"scatterternary\"}], \"surface\": [{\"colorbar\": {\"outlinewidth\": 0, \"ticks\": \"\"}, \"colorscale\": [[0.0, \"#0d0887\"], [0.1111111111111111, \"#46039f\"], [0.2222222222222222, \"#7201a8\"], [0.3333333333333333, \"#9c179e\"], [0.4444444444444444, \"#bd3786\"], [0.5555555555555556, \"#d8576b\"], [0.6666666666666666, \"#ed7953\"], [0.7777777777777778, \"#fb9f3a\"], [0.8888888888888888, \"#fdca26\"], [1.0, \"#f0f921\"]], \"type\": \"surface\"}], \"table\": [{\"cells\": {\"fill\": {\"color\": \"#EBF0F8\"}, \"line\": {\"color\": \"white\"}}, \"header\": {\"fill\": {\"color\": \"#C8D4E3\"}, \"line\": {\"color\": \"white\"}}, \"type\": \"table\"}]}, \"layout\": {\"annotationdefaults\": {\"arrowcolor\": \"#2a3f5f\", \"arrowhead\": 0, \"arrowwidth\": 1}, \"coloraxis\": {\"colorbar\": {\"outlinewidth\": 0, \"ticks\": \"\"}}, \"colorscale\": {\"diverging\": [[0, \"#8e0152\"], [0.1, \"#c51b7d\"], [0.2, \"#de77ae\"], [0.3, \"#f1b6da\"], [0.4, \"#fde0ef\"], [0.5, \"#f7f7f7\"], [0.6, \"#e6f5d0\"], [0.7, \"#b8e186\"], [0.8, \"#7fbc41\"], [0.9, \"#4d9221\"], [1, \"#276419\"]], \"sequential\": [[0.0, \"#0d0887\"], [0.1111111111111111, \"#46039f\"], [0.2222222222222222, \"#7201a8\"], [0.3333333333333333, \"#9c179e\"], [0.4444444444444444, \"#bd3786\"], [0.5555555555555556, \"#d8576b\"], [0.6666666666666666, \"#ed7953\"], [0.7777777777777778, \"#fb9f3a\"], [0.8888888888888888, \"#fdca26\"], [1.0, \"#f0f921\"]], \"sequentialminus\": [[0.0, \"#0d0887\"], [0.1111111111111111, \"#46039f\"], [0.2222222222222222, \"#7201a8\"], [0.3333333333333333, \"#9c179e\"], [0.4444444444444444, \"#bd3786\"], [0.5555555555555556, \"#d8576b\"], [0.6666666666666666, \"#ed7953\"], [0.7777777777777778, \"#fb9f3a\"], [0.8888888888888888, \"#fdca26\"], [1.0, \"#f0f921\"]]}, \"colorway\": [\"#636efa\", \"#EF553B\", \"#00cc96\", \"#ab63fa\", \"#FFA15A\", \"#19d3f3\", \"#FF6692\", \"#B6E880\", \"#FF97FF\", \"#FECB52\"], \"font\": {\"color\": \"#2a3f5f\"}, \"geo\": {\"bgcolor\": \"white\", \"lakecolor\": \"white\", \"landcolor\": \"#E5ECF6\", \"showlakes\": true, \"showland\": true, \"subunitcolor\": \"white\"}, \"hoverlabel\": {\"align\": \"left\"}, \"hovermode\": \"closest\", \"mapbox\": {\"style\": \"light\"}, \"paper_bgcolor\": \"white\", \"plot_bgcolor\": \"#E5ECF6\", \"polar\": {\"angularaxis\": {\"gridcolor\": \"white\", \"linecolor\": \"white\", \"ticks\": \"\"}, \"bgcolor\": \"#E5ECF6\", \"radialaxis\": {\"gridcolor\": \"white\", \"linecolor\": \"white\", \"ticks\": \"\"}}, \"scene\": {\"xaxis\": {\"backgroundcolor\": \"#E5ECF6\", \"gridcolor\": \"white\", \"gridwidth\": 2, \"linecolor\": \"white\", \"showbackground\": true, \"ticks\": \"\", \"zerolinecolor\": \"white\"}, \"yaxis\": {\"backgroundcolor\": \"#E5ECF6\", \"gridcolor\": \"white\", \"gridwidth\": 2, \"linecolor\": \"white\", \"showbackground\": true, \"ticks\": \"\", \"zerolinecolor\": \"white\"}, \"zaxis\": {\"backgroundcolor\": \"#E5ECF6\", \"gridcolor\": \"white\", \"gridwidth\": 2, \"linecolor\": \"white\", \"showbackground\": true, \"ticks\": \"\", \"zerolinecolor\": \"white\"}}, \"shapedefaults\": {\"line\": {\"color\": \"#2a3f5f\"}}, \"ternary\": {\"aaxis\": {\"gridcolor\": \"white\", \"linecolor\": \"white\", \"ticks\": \"\"}, \"baxis\": {\"gridcolor\": \"white\", \"linecolor\": \"white\", \"ticks\": \"\"}, \"bgcolor\": \"#E5ECF6\", \"caxis\": {\"gridcolor\": \"white\", \"linecolor\": \"white\", \"ticks\": \"\"}}, \"title\": {\"x\": 0.05}, \"xaxis\": {\"automargin\": true, \"gridcolor\": \"white\", \"linecolor\": \"white\", \"ticks\": \"\", \"title\": {\"standoff\": 15}, \"zerolinecolor\": \"white\", \"zerolinewidth\": 2}, \"yaxis\": {\"automargin\": true, \"gridcolor\": \"white\", \"linecolor\": \"white\", \"ticks\": \"\", \"title\": {\"standoff\": 15}, \"zerolinecolor\": \"white\", \"zerolinewidth\": 2}}}, \"xaxis\": {\"anchor\": \"y\", \"domain\": [0.0, 0.45], \"title\": {\"text\": \"Epoch\"}}, \"xaxis2\": {\"anchor\": \"y2\", \"domain\": [0.55, 1.0], \"title\": {\"text\": \"Epoch\"}}, \"yaxis\": {\"anchor\": \"x\", \"domain\": [0.0, 1.0], \"range\": [0, 1], \"title\": {\"text\": \"Accuracy\"}}, \"yaxis2\": {\"anchor\": \"x2\", \"domain\": [0.0, 1.0], \"range\": [0, 1], \"title\": {\"text\": \"Loss\"}}},\n",
              "                        {\"responsive\": true}\n",
              "                    ).then(function(){\n",
              "                            \n",
              "var gd = document.getElementById('9bee8831-fa4b-4eec-a51d-83e6bd961af4');\n",
              "var x = new MutationObserver(function (mutations, observer) {{\n",
              "        var display = window.getComputedStyle(gd).display;\n",
              "        if (!display || display === 'none') {{\n",
              "            console.log([gd, 'removed!']);\n",
              "            Plotly.purge(gd);\n",
              "            observer.disconnect();\n",
              "        }}\n",
              "}});\n",
              "\n",
              "// Listen for the removal of the full notebook cells\n",
              "var notebookContainer = gd.closest('#notebook-container');\n",
              "if (notebookContainer) {{\n",
              "    x.observe(notebookContainer, {childList: true});\n",
              "}}\n",
              "\n",
              "// Listen for the clearing of the current output cell\n",
              "var outputEl = gd.closest('.output');\n",
              "if (outputEl) {{\n",
              "    x.observe(outputEl, {childList: true});\n",
              "}}\n",
              "\n",
              "                        })\n",
              "                };\n",
              "                \n",
              "            </script>\n",
              "        </div>\n",
              "</body>\n",
              "</html>"
            ]
          },
          "metadata": {
            "tags": []
          }
        }
      ]
    },
    {
      "cell_type": "code",
      "metadata": {
        "colab": {
          "base_uri": "https://localhost:8080/"
        },
        "id": "gRPi70RoEncW",
        "outputId": "c486986a-53df-467d-8f40-09129042d7ad"
      },
      "source": [
        "score = model.evaluate(test_x, test_y, verbose=0)\n",
        "print('Test loss:', score[0])\n",
        "print('Test accuracy:', score[1])"
      ],
      "execution_count": null,
      "outputs": [
        {
          "output_type": "stream",
          "text": [
            "Test loss: 0.3450799882411957\n",
            "Test accuracy: 0.8822000026702881\n"
          ],
          "name": "stdout"
        }
      ]
    },
    {
      "cell_type": "markdown",
      "metadata": {
        "id": "hMWtCFBfvuns"
      },
      "source": [
        "#Prediction"
      ]
    },
    {
      "cell_type": "code",
      "metadata": {
        "id": "BGisxGf1K-6g"
      },
      "source": [
        "pred= model.predict(test_x)"
      ],
      "execution_count": null,
      "outputs": []
    },
    {
      "cell_type": "code",
      "metadata": {
        "colab": {
          "base_uri": "https://localhost:8080/"
        },
        "id": "nWJPd1Q7LSK_",
        "outputId": "8ded21e4-bf19-42f5-ca1a-5ee6b441b9cb"
      },
      "source": [
        "pred[0]"
      ],
      "execution_count": null,
      "outputs": [
        {
          "output_type": "execute_result",
          "data": {
            "text/plain": [
              "array([3.0188012e-09, 8.5258696e-11, 4.6218243e-10, 6.8985886e-11,\n",
              "       3.5810146e-12, 2.3148474e-03, 3.9912112e-11, 7.4047958e-03,\n",
              "       1.8336543e-10, 9.9028033e-01], dtype=float32)"
            ]
          },
          "metadata": {
            "tags": []
          },
          "execution_count": 29
        }
      ]
    },
    {
      "cell_type": "code",
      "metadata": {
        "colab": {
          "base_uri": "https://localhost:8080/"
        },
        "id": "8q1370A9LT2C",
        "outputId": "21c5eaff-2928-4658-91d7-5b2b6b0fbb04"
      },
      "source": [
        "np.argmax(pred[0])"
      ],
      "execution_count": null,
      "outputs": [
        {
          "output_type": "execute_result",
          "data": {
            "text/plain": [
              "9"
            ]
          },
          "metadata": {
            "tags": []
          },
          "execution_count": 27
        }
      ]
    },
    {
      "cell_type": "code",
      "metadata": {
        "id": "p1MqOylaLZ03",
        "colab": {
          "base_uri": "https://localhost:8080/"
        },
        "outputId": "c7e603b1-e8da-4a10-f173-7bf693b0068c"
      },
      "source": [
        "test_y[0]"
      ],
      "execution_count": null,
      "outputs": [
        {
          "output_type": "execute_result",
          "data": {
            "text/plain": [
              "9"
            ]
          },
          "metadata": {
            "tags": []
          },
          "execution_count": 22
        }
      ]
    },
    {
      "cell_type": "code",
      "metadata": {
        "id": "7SfNivbzLcZ_",
        "colab": {
          "base_uri": "https://localhost:8080/"
        },
        "outputId": "802d5986-1216-4057-df65-ccf4d3a182ca"
      },
      "source": [
        "predicted_classes = model.predict_classes(test_x)\n",
        "predicted_classes"
      ],
      "execution_count": null,
      "outputs": [
        {
          "output_type": "stream",
          "text": [
            "/usr/local/lib/python3.7/dist-packages/tensorflow/python/keras/engine/sequential.py:455: UserWarning:\n",
            "\n",
            "`model.predict_classes()` is deprecated and will be removed after 2021-01-01. Please use instead:* `np.argmax(model.predict(x), axis=-1)`,   if your model does multi-class classification   (e.g. if it uses a `softmax` last-layer activation).* `(model.predict(x) > 0.5).astype(\"int32\")`,   if your model does binary classification   (e.g. if it uses a `sigmoid` last-layer activation).\n",
            "\n"
          ],
          "name": "stderr"
        },
        {
          "output_type": "execute_result",
          "data": {
            "text/plain": [
              "array([9, 2, 1, ..., 8, 1, 5])"
            ]
          },
          "metadata": {
            "tags": []
          },
          "execution_count": 31
        }
      ]
    },
    {
      "cell_type": "markdown",
      "metadata": {
        "id": "02w2V3cvv1m0"
      },
      "source": [
        "#Evaluation"
      ]
    },
    {
      "cell_type": "code",
      "metadata": {
        "colab": {
          "base_uri": "https://localhost:8080/"
        },
        "id": "JEBkr-UYnAOu",
        "outputId": "55580386-4ca4-4d94-c808-e0857e248ccd"
      },
      "source": [
        "from sklearn.metrics import confusion_matrix,classification_report\n",
        "result=confusion_matrix(predicted_classes,test_y)\n",
        "result"
      ],
      "execution_count": null,
      "outputs": [
        {
          "output_type": "execute_result",
          "data": {
            "text/plain": [
              "array([[805,   1,  12,   9,   0,   0, 102,   0,   5,   1],\n",
              "       [  3, 968,   1,   7,   0,   0,   1,   0,   0,   0],\n",
              "       [ 17,   2, 785,   7,  88,   0,  85,   0,   3,   0],\n",
              "       [ 29,  23,  16, 895,  24,   0,  30,   0,   6,   0],\n",
              "       [  6,   3, 113,  39, 829,   0,  76,   0,   3,   0],\n",
              "       [  0,   0,   0,   0,   0, 963,   1,  18,   4,   5],\n",
              "       [126,   2,  72,  35,  58,   0, 690,   0,   5,   0],\n",
              "       [  0,   0,   0,   0,   0,  24,   0, 962,   4,  39],\n",
              "       [ 14,   1,   1,   8,   1,   2,  15,   0, 970,   0],\n",
              "       [  0,   0,   0,   0,   0,  11,   0,  20,   0, 955]])"
            ]
          },
          "metadata": {
            "tags": []
          },
          "execution_count": 34
        }
      ]
    },
    {
      "cell_type": "code",
      "metadata": {
        "colab": {
          "base_uri": "https://localhost:8080/"
        },
        "id": "TxOvH4gJpr4I",
        "outputId": "cbd7ac39-e0e2-4838-ebde-9f7625f600f3"
      },
      "source": [
        "report=classification_report(test_y, predicted_classes)\n",
        "print(report)"
      ],
      "execution_count": null,
      "outputs": [
        {
          "output_type": "stream",
          "text": [
            "              precision    recall  f1-score   support\n",
            "\n",
            "           0       0.86      0.81      0.83      1000\n",
            "           1       0.99      0.97      0.98      1000\n",
            "           2       0.80      0.79      0.79      1000\n",
            "           3       0.87      0.90      0.88      1000\n",
            "           4       0.78      0.83      0.80      1000\n",
            "           5       0.97      0.96      0.97      1000\n",
            "           6       0.70      0.69      0.69      1000\n",
            "           7       0.93      0.96      0.95      1000\n",
            "           8       0.96      0.97      0.96      1000\n",
            "           9       0.97      0.95      0.96      1000\n",
            "\n",
            "    accuracy                           0.88     10000\n",
            "   macro avg       0.88      0.88      0.88     10000\n",
            "weighted avg       0.88      0.88      0.88     10000\n",
            "\n"
          ],
          "name": "stdout"
        }
      ]
    },
    {
      "cell_type": "markdown",
      "metadata": {
        "id": "Q-lV9gKLv4hU"
      },
      "source": [
        "#Verification"
      ]
    },
    {
      "cell_type": "code",
      "metadata": {
        "id": "mX8rmuDRqPtF"
      },
      "source": [
        "def plot_image_value(i,predictions_array,true_label,img):\n",
        "  true_label, img = true_label[i], img[i]\n",
        "  plt.grid(False)\n",
        "  plt.xticks([])\n",
        "  plt.yticks([])\n",
        "\n",
        "  plt.imshow(img, cmap=plt.cm.binary)\n",
        "\n",
        "  predicted_label = np.argmax(predictions_array)\n",
        "  if predicted_label == true_label:\n",
        "    color = 'blue'\n",
        "  else:\n",
        "    color = 'red'\n",
        "  plt.xlabel(\"{} {:2.0f}% ({})\".format(class_names[predicted_label],\n",
        "                                100*np.max(predictions_array),\n",
        "                                class_names[true_label]),\n",
        "                                color=color)\n",
        "  plt.show()\n",
        "  plt.xticks(range(10))\n",
        "  plt.yticks([])\n",
        "  thisplot = plt.bar(range(10), predictions_array, color=\"#777777\")\n",
        "  plt.ylim([0, 1])\n",
        "  thisplot[predicted_label].set_color('red')\n",
        "  thisplot[true_label].set_color('blue')\n",
        "  plt.show()"
      ],
      "execution_count": null,
      "outputs": []
    },
    {
      "cell_type": "code",
      "metadata": {
        "colab": {
          "base_uri": "https://localhost:8080/",
          "height": 445
        },
        "id": "sgJA9nmmrnid",
        "outputId": "5bf14717-3b42-44d6-9fa6-01ac32d0a950"
      },
      "source": [
        "i = 0\n",
        "plt.figure(figsize=(6,3))\n",
        "plt.subplot(1,2,1)\n",
        "plot_image_value(i, pred[i], test_y, test_x)"
      ],
      "execution_count": null,
      "outputs": [
        {
          "output_type": "display_data",
          "data": {
            "image/png": "[encoded data removed]",
            "text/plain": [
              "<Figure size 432x216 with 1 Axes>"
            ]
          },
          "metadata": {
            "tags": []
          }
        },
        {
          "output_type": "display_data",
          "data": {
            "image/png": "[encoded data removed]",
            "text/plain": [
              "<Figure size 432x288 with 1 Axes>"
            ]
          },
          "metadata": {
            "tags": [],
            "needs_background": "light"
          }
        }
      ]
    },
    {
      "cell_type": "code",
      "metadata": {
        "colab": {
          "base_uri": "https://localhost:8080/",
          "height": 445
        },
        "id": "uyyz5Jrsr7I5",
        "outputId": "85c2ce86-f039-4c69-dd7d-43620903ba96"
      },
      "source": [
        "i = 12\n",
        "plt.figure(figsize=(6,3))\n",
        "plt.subplot(1,2,1)\n",
        "plot_image_value(i, pred[i], test_y, test_x)"
      ],
      "execution_count": null,
      "outputs": [
        {
          "output_type": "display_data",
          "data": {
            "image/png": "[encoded data removed]",
            "text/plain": [
              "<Figure size 432x216 with 1 Axes>"
            ]
          },
          "metadata": {
            "tags": []
          }
        },
        {
          "output_type": "display_data",
          "data": {
            "image/png": "[encoded data removed]",
            "text/plain": [
              "<Figure size 432x288 with 1 Axes>"
            ]
          },
          "metadata": {
            "tags": [],
            "needs_background": "light"
          }
        }
      ]
    },
    {
      "cell_type": "code",
      "metadata": {
        "id": "HUBKj93xsniC"
      },
      "source": [
        ""
      ],
      "execution_count": null,
      "outputs": []
    }
  ]
}