{
  "nbformat": 4,
  "nbformat_minor": 0,
  "metadata": {
    "colab": {
      "name": "Image Classification - MNIST.ipynb",
      "provenance": []
    },
    "kernelspec": {
      "name": "python3",
      "display_name": "Python 3"
    },
    "language_info": {
      "name": "python"
    }
  },
  "cells": [
    {
      "cell_type": "code",
      "metadata": {
        "id": "zu6Cqref1NCc"
      },
      "source": [
        "import tensorflow as tf\n",
        "import matplotlib.pyplot as plt"
      ],
      "execution_count": 6,
      "outputs": []
    },
    {
      "cell_type": "code",
      "metadata": {
        "id": "joSRbGZc1ylP"
      },
      "source": [
        "#dataset prep\n",
        "(x_train, y_train), (x_test, y_test) = tf.keras.datasets.mnist.load_data()\n"
      ],
      "execution_count": 4,
      "outputs": []
    },
    {
      "cell_type": "code",
      "metadata": {
        "colab": {
          "base_uri": "https://localhost:8080/"
        },
        "id": "BQRC6Uhq51UA",
        "outputId": "be34e6b9-688c-4f35-ddde-303e2b8efbb9"
      },
      "source": [
        "print(x_train.shape,y_train.shape)"
      ],
      "execution_count": 8,
      "outputs": [
        {
          "output_type": "stream",
          "text": [
            "(60000, 28, 28) (60000,)\n"
          ],
          "name": "stdout"
        }
      ]
    },
    {
      "cell_type": "code",
      "metadata": {
        "colab": {
          "base_uri": "https://localhost:8080/",
          "height": 299
        },
        "id": "JUD0JMg92EN3",
        "outputId": "9a54a2e0-7a87-4edd-b8d4-03907817e776"
      },
      "source": [
        "#sample image display\n",
        "image_index = 1 \n",
        "print(y_train[image_index]) \n",
        "plt.imshow(x_train[image_index], cmap='Greys')"
      ],
      "execution_count": 7,
      "outputs": [
        {
          "output_type": "stream",
          "text": [
            "0\n"
          ],
          "name": "stdout"
        },
        {
          "output_type": "execute_result",
          "data": {
            "text/plain": [
              "<matplotlib.image.AxesImage at 0x7fb6d6025e50>"
            ]
          },
          "metadata": {
            "tags": []
          },
          "execution_count": 7
        },
        {
          "output_type": "display_data",
          "data": {
            "image/png": "[encoded data removed]",
            "text/plain": [
              "<Figure size 432x288 with 1 Axes>"
            ]
          },
          "metadata": {
            "tags": [],
            "needs_background": "light"
          }
        }
      ]
    },
    {
      "cell_type": "code",
      "metadata": {
        "colab": {
          "base_uri": "https://localhost:8080/"
        },
        "id": "odYIvpgv2NZW",
        "outputId": "2a5ef97e-b77e-400b-a542-7d1b9b1d64ee"
      },
      "source": [
        "# Reshaping the array to 4-dims so that it can work with the Keras API\n",
        "x_train = x_train.reshape(x_train.shape[0], 28, 28, 1)\n",
        "x_test = x_test.reshape(x_test.shape[0], 28, 28, 1)\n",
        "input_shape = (28, 28, 1)\n",
        "# Making sure that the values are float so that we can get decimal points after division\n",
        "x_train = x_train.astype('float32')\n",
        "x_test = x_test.astype('float32')\n",
        "# Normalizing the RGB codes by dividing it to the max RGB value.\n",
        "x_train /= 255\n",
        "x_test /= 255\n",
        "\n",
        "print('Number of images in x_train', x_train.shape[0])\n",
        "print('Number of images in x_test', x_test.shape[0])"
      ],
      "execution_count": 9,
      "outputs": [
        {
          "output_type": "stream",
          "text": [
            "x_train shape: (60000, 28, 28, 1)\n",
            "Number of images in x_train 60000\n",
            "Number of images in x_test 10000\n"
          ],
          "name": "stdout"
        }
      ]
    },
    {
      "cell_type": "code",
      "metadata": {
        "id": "6ClhLEfv5_pf"
      },
      "source": [
        "# Importing the required Keras modules containing model and layers\n",
        "from tensorflow.keras.models import Sequential\n",
        "from tensorflow.keras.layers import Dense, Conv2D, Dropout, Flatten, MaxPooling2D\n",
        "# Creating a Sequential Model and adding the layers\n",
        "model = Sequential()\n",
        "model.add(Conv2D(28, kernel_size=(3,3), input_shape=input_shape))\n",
        "model.add(MaxPooling2D(pool_size=(2, 2)))\n",
        "model.add(Flatten()) # Flattening the 2D arrays for fully connected layers\n",
        "model.add(Dense(128, activation=tf.nn.relu))\n",
        "model.add(Dropout(0.2))\n",
        "model.add(Dense(10,activation=tf.nn.softmax))"
      ],
      "execution_count": 10,
      "outputs": []
    },
    {
      "cell_type": "code",
      "metadata": {
        "colab": {
          "base_uri": "https://localhost:8080/"
        },
        "id": "TpJReSmJ6GvC",
        "outputId": "f367cb34-aa8c-411d-faf0-eb7e4466fae9"
      },
      "source": [
        "model.compile(optimizer='adam', \n",
        "              loss='sparse_categorical_crossentropy', \n",
        "              metrics=['accuracy'])\n",
        "model.fit(x=x_train,y=y_train, epochs=15)"
      ],
      "execution_count": 11,
      "outputs": [
        {
          "output_type": "stream",
          "text": [
            "Epoch 1/15\n",
            "1875/1875 [==============================] - 31s 16ms/step - loss: 0.2083 - accuracy: 0.9372\n",
            "Epoch 2/15\n",
            "1875/1875 [==============================] - 31s 17ms/step - loss: 0.0844 - accuracy: 0.9744\n",
            "Epoch 3/15\n",
            "1875/1875 [==============================] - 31s 16ms/step - loss: 0.0612 - accuracy: 0.9808\n",
            "Epoch 4/15\n",
            "1875/1875 [==============================] - 31s 16ms/step - loss: 0.0445 - accuracy: 0.9856\n",
            "Epoch 5/15\n",
            "1875/1875 [==============================] - 30s 16ms/step - loss: 0.0381 - accuracy: 0.9876\n",
            "Epoch 6/15\n",
            "1875/1875 [==============================] - 30s 16ms/step - loss: 0.0314 - accuracy: 0.9897\n",
            "Epoch 7/15\n",
            "1875/1875 [==============================] - 30s 16ms/step - loss: 0.0256 - accuracy: 0.9915\n",
            "Epoch 8/15\n",
            "1875/1875 [==============================] - 31s 16ms/step - loss: 0.0235 - accuracy: 0.9920\n",
            "Epoch 9/15\n",
            "1875/1875 [==============================] - 31s 16ms/step - loss: 0.0186 - accuracy: 0.9935\n",
            "Epoch 10/15\n",
            "1875/1875 [==============================] - 31s 16ms/step - loss: 0.0178 - accuracy: 0.9939\n",
            "Epoch 11/15\n",
            "1875/1875 [==============================] - 31s 16ms/step - loss: 0.0172 - accuracy: 0.9942\n",
            "Epoch 12/15\n",
            "1875/1875 [==============================] - 31s 16ms/step - loss: 0.0160 - accuracy: 0.9946\n",
            "Epoch 13/15\n",
            "1875/1875 [==============================] - 31s 17ms/step - loss: 0.0147 - accuracy: 0.9948\n",
            "Epoch 14/15\n",
            "1875/1875 [==============================] - 31s 16ms/step - loss: 0.0144 - accuracy: 0.9952\n",
            "Epoch 15/15\n",
            "1875/1875 [==============================] - 30s 16ms/step - loss: 0.0134 - accuracy: 0.9955\n"
          ],
          "name": "stdout"
        },
        {
          "output_type": "execute_result",
          "data": {
            "text/plain": [
              "<tensorflow.python.keras.callbacks.History at 0x7fb6d21d76d0>"
            ]
          },
          "metadata": {
            "tags": []
          },
          "execution_count": 11
        }
      ]
    },
    {
      "cell_type": "code",
      "metadata": {
        "colab": {
          "base_uri": "https://localhost:8080/"
        },
        "id": "F0_OP4c-6LxU",
        "outputId": "f80bcd55-76b0-4980-ab2a-56a7df991e25"
      },
      "source": [
        "#Evaluating the model\n",
        "model.evaluate(x_test, y_test)"
      ],
      "execution_count": 12,
      "outputs": [
        {
          "output_type": "stream",
          "text": [
            "313/313 [==============================] - 2s 6ms/step - loss: 0.0721 - accuracy: 0.9852\n"
          ],
          "name": "stdout"
        },
        {
          "output_type": "execute_result",
          "data": {
            "text/plain": [
              "[0.0721491202712059, 0.9851999878883362]"
            ]
          },
          "metadata": {
            "tags": []
          },
          "execution_count": 12
        }
      ]
    },
    {
      "cell_type": "code",
      "metadata": {
        "colab": {
          "base_uri": "https://localhost:8080/",
          "height": 282
        },
        "id": "zFPtnFeh6Q2A",
        "outputId": "95c91c19-fc37-49df-bc9a-f86d57304311"
      },
      "source": [
        "image_index = 5\n",
        "plt.imshow(x_test[image_index].reshape(28, 28),cmap='Greys')\n",
        "pred = model.predict(x_test[image_index].reshape(1, 28, 28, 1))\n",
        "print(pred.argmax())"
      ],
      "execution_count": 14,
      "outputs": [
        {
          "output_type": "stream",
          "text": [
            "1\n"
          ],
          "name": "stdout"
        },
        {
          "output_type": "display_data",
          "data": {
            "image/png": "[encoded data removed]",
            "text/plain": [
              "<Figure size 432x288 with 1 Axes>"
            ]
          },
          "metadata": {
            "tags": [],
            "needs_background": "light"
          }
        }
      ]
    },
    {
      "cell_type": "code",
      "metadata": {
        "id": "M32qR7ym-j13"
      },
      "source": [
        ""
      ],
      "execution_count": null,
      "outputs": []
    }
  ]
}