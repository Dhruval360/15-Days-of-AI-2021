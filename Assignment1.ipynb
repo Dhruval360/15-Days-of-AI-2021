{
  "nbformat": 4,
  "nbformat_minor": 0,
  "metadata": {
    "colab": {
      "name": "Assignment1.ipynb",
      "provenance": [],
      "collapsed_sections": []
    },
    "kernelspec": {
      "name": "python3",
      "display_name": "Python 3"
    },
    "language_info": {
      "name": "python"
    }
  },
  "cells": [
    {
      "cell_type": "markdown",
      "metadata": {
        "id": "lo6_ACz61OmJ"
      },
      "source": [
        "# **Linear Regression using numpy**"
      ]
    },
    {
      "cell_type": "code",
      "metadata": {
        "id": "ZlHQM3sFu2rQ",
        "colab": {
          "resources": {
            "http://localhost:8080/nbextensions/google.colab/files.js": {
              "data": "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",
              "ok": true,
              "headers": [
                [
                  "content-type",
                  "application/javascript"
                ]
              ],
              "status": 200,
              "status_text": ""
            }
          },
          "base_uri": "https://localhost:8080/",
          "height": 73
        },
        "outputId": "db14568b-023b-484e-dc35-87461d59f471"
      },
      "source": [
        "import matplotlib.pyplot as plt\n",
        "import pandas as pd\n",
        "import numpy as np\n",
        "from google.colab import files  \n",
        "uploaded = files.upload()       # Upload the CSV file of your dataset (Choose any dataset of your choice)"
      ],
      "execution_count": null,
      "outputs": [
        {
          "output_type": "display_data",
          "data": {
            "text/html": [
              "\n",
              "     <input type=\"file\" id=\"files-7975456d-f96a-47b5-9536-e1c4527ff191\" name=\"files[]\" multiple disabled\n",
              "        style=\"border:none\" />\n",
              "     <output id=\"result-7975456d-f96a-47b5-9536-e1c4527ff191\">\n",
              "      Upload widget is only available when the cell has been executed in the\n",
              "      current browser session. Please rerun this cell to enable.\n",
              "      </output>\n",
              "      <script src=\"/nbextensions/google.colab/files.js\"></script> "
            ],
            "text/plain": [
              "<IPython.core.display.HTML object>"
            ]
          },
          "metadata": {
            "tags": []
          }
        },
        {
          "output_type": "stream",
          "text": [
            "Saving assignmentdata.csv to assignmentdata.csv\n"
          ],
          "name": "stdout"
        }
      ]
    },
    {
      "cell_type": "code",
      "metadata": {
        "id": "c8u3K7sV3yw5",
        "colab": {
          "base_uri": "https://localhost:8080/",
          "height": 203
        },
        "outputId": "5200784e-811a-42ce-c849-9937bb0c82eb"
      },
      "source": [
        "df = pd.read_csv(\"assignmentdata.csv\") # Change according to the name of your dataset\n",
        "df.head()"
      ],
      "execution_count": null,
      "outputs": [
        {
          "output_type": "execute_result",
          "data": {
            "text/html": [
              "<div>\n",
              "<style scoped>\n",
              "    .dataframe tbody tr th:only-of-type {\n",
              "        vertical-align: middle;\n",
              "    }\n",
              "\n",
              "    .dataframe tbody tr th {\n",
              "        vertical-align: top;\n",
              "    }\n",
              "\n",
              "    .dataframe thead th {\n",
              "        text-align: right;\n",
              "    }\n",
              "</style>\n",
              "<table border=\"1\" class=\"dataframe\">\n",
              "  <thead>\n",
              "    <tr style=\"text-align: right;\">\n",
              "      <th></th>\n",
              "      <th>x</th>\n",
              "      <th>y</th>\n",
              "      <th>z</th>\n",
              "    </tr>\n",
              "  </thead>\n",
              "  <tbody>\n",
              "    <tr>\n",
              "      <th>0</th>\n",
              "      <td>117.593042</td>\n",
              "      <td>101.377856</td>\n",
              "      <td>a</td>\n",
              "    </tr>\n",
              "    <tr>\n",
              "      <th>1</th>\n",
              "      <td>97.426863</td>\n",
              "      <td>116.344495</td>\n",
              "      <td>a</td>\n",
              "    </tr>\n",
              "    <tr>\n",
              "      <th>2</th>\n",
              "      <td>97.562923</td>\n",
              "      <td>73.212465</td>\n",
              "      <td>a</td>\n",
              "    </tr>\n",
              "    <tr>\n",
              "      <th>3</th>\n",
              "      <td>68.603151</td>\n",
              "      <td>39.308131</td>\n",
              "      <td>a</td>\n",
              "    </tr>\n",
              "    <tr>\n",
              "      <th>4</th>\n",
              "      <td>92.329087</td>\n",
              "      <td>111.695514</td>\n",
              "      <td>a</td>\n",
              "    </tr>\n",
              "  </tbody>\n",
              "</table>\n",
              "</div>"
            ],
            "text/plain": [
              "            x           y  z\n",
              "0  117.593042  101.377856  a\n",
              "1   97.426863  116.344495  a\n",
              "2   97.562923   73.212465  a\n",
              "3   68.603151   39.308131  a\n",
              "4   92.329087  111.695514  a"
            ]
          },
          "metadata": {
            "tags": []
          },
          "execution_count": 3
        }
      ]
    },
    {
      "cell_type": "code",
      "metadata": {
        "id": "zo5hTLgpWm4m"
      },
      "source": [
        "x = df['x'].values\n",
        "y = df['y'].values"
      ],
      "execution_count": null,
      "outputs": []
    },
    {
      "cell_type": "code",
      "metadata": {
        "colab": {
          "base_uri": "https://localhost:8080/",
          "height": 265
        },
        "id": "dljCW3FNoOUX",
        "outputId": "7954fd13-a91c-4cdc-c143-4e5d69001b27"
      },
      "source": [
        "plt.scatter(x,y)\n",
        "plt.show()"
      ],
      "execution_count": null,
      "outputs": [
        {
          "output_type": "display_data",
          "data": {
            "image/png": "[encoded data removed]",
            "text/plain": [
              "<Figure size 432x288 with 1 Axes>"
            ]
          },
          "metadata": {
            "tags": [],
            "needs_background": "light"
          }
        }
      ]
    },
    {
      "cell_type": "code",
      "metadata": {
        "colab": {
          "base_uri": "https://localhost:8080/"
        },
        "id": "Qj9tcguQoTO7",
        "outputId": "26c4f3a1-d640-4c88-8057-aaa4b0ed9c31"
      },
      "source": [
        "df.shape"
      ],
      "execution_count": null,
      "outputs": [
        {
          "output_type": "execute_result",
          "data": {
            "text/plain": [
              "(697, 3)"
            ]
          },
          "metadata": {
            "tags": []
          },
          "execution_count": 6
        }
      ]
    },
    {
      "cell_type": "code",
      "metadata": {
        "id": "vNhagLDmodBi"
      },
      "source": [
        "n = len(x)\n",
        "x_mean=np.mean(x)\n",
        "y_mean=np.mean(y)\n",
        "X= np.sum(x)\n",
        "Y= np.sum(y)\n",
        "xy= np.sum(x*y)\n",
        "xx=np.sum(x**2)"
      ],
      "execution_count": null,
      "outputs": []
    },
    {
      "cell_type": "code",
      "metadata": {
        "id": "bDhIpoDjrh3G"
      },
      "source": [
        "num = (X*Y)-(n*xy)\n",
        "denom=(X**2)-(n*xx)"
      ],
      "execution_count": null,
      "outputs": []
    },
    {
      "cell_type": "code",
      "metadata": {
        "colab": {
          "base_uri": "https://localhost:8080/"
        },
        "id": "HHHT0YGUrwn8",
        "outputId": "00d67ede-7870-49b5-ca3b-2f5a03d88fe6"
      },
      "source": [
        "m = num/denom\n",
        "m"
      ],
      "execution_count": null,
      "outputs": [
        {
          "output_type": "execute_result",
          "data": {
            "text/plain": [
              "0.49129033431618285"
            ]
          },
          "metadata": {
            "tags": []
          },
          "execution_count": 19
        }
      ]
    },
    {
      "cell_type": "code",
      "metadata": {
        "colab": {
          "base_uri": "https://localhost:8080/"
        },
        "id": "iyBTNmRAsMlr",
        "outputId": "206744ef-bb1c-48ff-d1fa-e395935988d9"
      },
      "source": [
        "c = y_mean-(m*x_mean)\n",
        "c"
      ],
      "execution_count": null,
      "outputs": [
        {
          "output_type": "execute_result",
          "data": {
            "text/plain": [
              "83.02585688668498"
            ]
          },
          "metadata": {
            "tags": []
          },
          "execution_count": 20
        }
      ]
    },
    {
      "cell_type": "code",
      "metadata": {
        "id": "NaC-uYZMsg_o"
      },
      "source": [
        "y_pred = (m*x) + c"
      ],
      "execution_count": null,
      "outputs": []
    },
    {
      "cell_type": "code",
      "metadata": {
        "colab": {
          "base_uri": "https://localhost:8080/"
        },
        "id": "p05M86N_tGHt",
        "outputId": "03fc97ed-699a-493d-bf75-94c463fe372e"
      },
      "source": [
        "y_pred"
      ],
      "execution_count": null,
      "outputs": [
        {
          "output_type": "execute_result",
          "data": {
            "text/plain": [
              "array([140.79818177, 130.89073307, 130.95757785, 116.72992165,\n",
              "       128.38624506, 138.93455723, 105.90318304, 135.91520538,\n",
              "       138.72771647, 141.45175098, 129.71812592, 156.93211031,\n",
              "       151.03862228, 130.08908339, 114.27815515, 136.57388909,\n",
              "       145.52602972, 138.47350844, 140.45949887, 162.00119434,\n",
              "       146.07944982, 157.47409859, 141.081875  , 150.66706626,\n",
              "       141.32299545, 131.61757185, 133.56083642, 156.29014532,\n",
              "       120.6883069 , 138.48042406, 134.70906435, 139.50562513,\n",
              "       130.90523889, 179.88218705, 178.71298782, 136.96523761,\n",
              "       165.21493757, 158.70377711, 164.08732648, 180.51331866,\n",
              "       197.80576521, 176.90352903, 215.36704826, 216.89415749,\n",
              "       178.21722404, 193.52875959, 196.09221169, 201.76323626,\n",
              "       178.72821179, 201.59217971, 191.24006292, 179.92571835,\n",
              "       201.06377235, 222.06861222, 177.32186134, 204.40517814,\n",
              "       180.21989669, 187.71633203, 181.1283829 , 205.64792995,\n",
              "       174.45030272, 188.34507418, 194.0656043 , 182.75761164,\n",
              "       180.30242928, 170.66483406, 193.53524495, 183.28753224,\n",
              "       188.42247001, 186.20122613, 198.62336739, 206.99986376,\n",
              "       218.35507334, 207.42966203, 216.83837236, 224.09288108,\n",
              "       211.14834864, 192.47509231, 231.83418455, 195.90661842,\n",
              "       202.35219492, 184.97196737, 188.8797535 , 201.13586341,\n",
              "       196.8703044 , 186.14628061, 200.02687972, 180.28226587,\n",
              "       201.05681504, 202.34815531, 214.59699692, 213.71337647,\n",
              "       231.1131    , 195.99237986, 243.8699477 , 237.90745494,\n",
              "       239.23082414, 243.61949952, 251.62363218, 257.49276781,\n",
              "       271.91800368, 260.99993746, 259.25370308, 273.34504986,\n",
              "       274.25430174, 279.83242633, 258.66393437, 271.49523953,\n",
              "       241.38187034, 269.108476  , 248.08781272, 254.69111565,\n",
              "       269.80198344, 233.69524287, 226.09242143, 233.81778159,\n",
              "       233.20913466, 244.6147572 , 244.15595103, 227.80702673,\n",
              "       254.10179766, 244.52863663, 230.25267634, 251.1462904 ,\n",
              "       251.76408795, 251.00026242, 269.91072781, 245.27069586,\n",
              "       264.80129425, 253.62028648, 277.72554485, 300.63515723,\n",
              "       280.52613498, 267.43217797, 285.75089164, 271.66368778,\n",
              "       284.40629389, 267.75976678, 264.46846933, 263.22423781,\n",
              "       271.52476202, 316.85037886, 268.30968521, 258.37144513,\n",
              "       246.98798236, 289.14156785, 299.41132126, 277.32254402,\n",
              "       282.02001726, 320.79017069, 271.99225817, 277.55592675,\n",
              "       281.65415019, 301.23841713, 278.52528459, 283.61536396,\n",
              "       286.96680589, 278.74955858, 256.01313257, 281.71133727,\n",
              "       273.38828517, 278.9899062 , 276.2135102 , 267.3909866 ,\n",
              "       251.37662159, 267.93771441, 270.62257735, 268.36552184,\n",
              "       264.50375393, 286.86783555, 277.24830324, 287.51061105,\n",
              "       324.47507483, 344.22996803, 335.87953034, 343.32748457,\n",
              "       335.8854095 , 329.25602683, 370.87800831, 347.48209871,\n",
              "       344.18893103, 365.3135548 , 356.00464818, 356.90919362,\n",
              "       356.01903343, 358.51224978, 343.03981614, 327.06610816,\n",
              "       348.36019862, 346.17647564, 334.4646954 , 339.59341979,\n",
              "       330.22007996, 339.73140429, 332.85653331, 331.74834893,\n",
              "       336.75381086, 357.02939069, 370.16167217, 377.03556978,\n",
              "       380.09276261, 382.03338367, 396.34718428, 416.52951016,\n",
              "       404.15437886, 426.32578892, 389.15587251, 429.47275331,\n",
              "       394.86337965, 413.42958253, 354.36557287, 381.00727463,\n",
              "       362.63835783, 360.5502066 , 368.79644016, 384.13842412,\n",
              "       372.55387299, 361.35577036, 376.20120213, 353.13613328,\n",
              "       361.83158506, 368.2030876 , 361.90497355, 300.94541698,\n",
              "       315.73853306, 339.64128196, 345.2984065 , 317.48635656,\n",
              "       331.35245055, 327.88081268, 324.17702812, 330.84984381,\n",
              "       330.25875391, 316.69197782, 301.4108551 , 297.0667836 ,\n",
              "       304.69619201, 294.61487764, 301.96285031, 314.85781972,\n",
              "       300.29733975, 292.28516301, 312.37706313, 304.29783051,\n",
              "       319.45414843, 317.61124545, 326.42123465, 310.7788319 ,\n",
              "       327.49076943, 329.94287929, 318.76919007, 315.9222036 ,\n",
              "       336.09230276, 292.44986726, 293.3271919 , 308.74483198,\n",
              "       318.7147386 , 313.53588155, 233.18709925, 239.48899047,\n",
              "       232.76796933, 228.97135502, 246.40625424, 262.25085098,\n",
              "       256.6085403 , 217.31697891, 256.53336603, 222.20571819,\n",
              "       252.70468481, 225.95384079, 234.83868308, 219.14294602,\n",
              "       246.25303318, 234.85806644, 226.77138157, 221.95971746,\n",
              "       232.36956319, 219.98759783, 192.46089044, 196.27909279,\n",
              "       211.52471037, 212.37835261, 215.98725438, 184.83930808,\n",
              "       195.26652392, 175.11092174, 189.77368043, 164.43148448,\n",
              "       165.73551674, 167.85361011, 164.82268088, 190.75259903,\n",
              "       177.39433042, 173.51379189, 185.23752478, 151.82351791,\n",
              "       145.71793901, 170.22593721, 154.46661993, 146.19432813,\n",
              "       152.99879016, 109.15795825, 142.28623927, 132.90244208,\n",
              "       122.42033631, 107.70140945, 152.0566468 , 127.30187405,\n",
              "       134.53209003, 139.43924679, 126.03789423, 151.65114387,\n",
              "       140.84461236, 142.54797048, 124.98479449, 103.1696488 ,\n",
              "       136.98845823, 159.74510839, 146.91332425, 148.75358917,\n",
              "       174.08522292, 161.72349092, 153.64131415, 163.03405477,\n",
              "       169.14241602, 181.94367933, 176.42008309, 165.13088065,\n",
              "       185.0593084 , 179.07687509, 172.86529488, 180.21871573,\n",
              "       191.42794609, 198.89663886, 184.57114582, 172.56023125,\n",
              "       194.21459511, 202.43841253, 203.21158072, 203.94759611,\n",
              "       228.81861907, 222.96184703, 216.5241519 , 229.92556234,\n",
              "       223.91754006, 244.5237183 , 254.3305757 , 248.92362517,\n",
              "       251.19693405, 240.18078099, 230.94714438, 239.59085098,\n",
              "       233.11113291, 230.83628823, 247.62575961, 235.94193085,\n",
              "       241.92348683, 261.74440892, 266.15741378, 268.63751732,\n",
              "       300.78083957, 301.03432437, 283.2725491 , 284.09445526,\n",
              "       308.77698685, 297.45180239, 290.57857624, 298.64412921,\n",
              "       300.69635957, 290.58755022, 316.92932759, 306.72042047,\n",
              "       315.63428609, 315.87310862, 320.32872819, 317.97819592,\n",
              "       332.47039231, 330.60671457, 328.44408352, 337.41918215,\n",
              "       349.14830162, 314.5675949 , 349.5976954 , 349.49508855,\n",
              "       338.95296529, 349.82687144, 341.5867531 , 373.02126955,\n",
              "       348.72407184, 367.0305428 , 388.56567117, 380.3644036 ,\n",
              "       370.30407366, 375.06820006, 371.9236356 , 395.26037009,\n",
              "       402.4089785 , 374.88542085, 379.89909472, 364.0728609 ,\n",
              "       400.42924971, 113.9050488 , 141.80759495, 126.6047385 ,\n",
              "       159.3978089 , 172.95144084, 172.62888623, 166.55635344,\n",
              "       165.28668322, 154.75505297, 168.98008708, 191.70991471,\n",
              "       207.84596481, 211.95013747, 215.10967353, 199.10271962,\n",
              "       210.12449217, 228.73071493, 240.04582331, 247.28855719,\n",
              "       248.78403512, 268.26470783, 267.62862168, 273.47327603,\n",
              "       271.21147997, 291.49959836, 294.83972877, 302.40141055,\n",
              "       299.93676268, 308.42101074, 335.05164957, 327.66424502,\n",
              "       331.86633179, 329.41839623, 352.33786815, 355.56922342,\n",
              "       353.72625852, 365.3046764 , 372.99882888, 368.29821948,\n",
              "       372.67756023, 368.06425357, 377.83925751, 384.83487958,\n",
              "       392.64562739, 383.081969  , 404.8417202 , 380.48070065,\n",
              "       391.10832705, 384.63354018, 391.05384226, 419.72225449,\n",
              "       407.12789127, 379.46034222, 190.32086195, 174.62793179,\n",
              "       195.26829743, 179.30395843, 175.30996782, 185.62197925,\n",
              "       170.18000586, 185.0661845 , 161.84409942, 191.57439554,\n",
              "       151.3550516 , 150.17408031, 166.10523412, 154.15841463,\n",
              "       161.78915803, 144.79384285, 128.33347558, 153.76043879,\n",
              "       106.2661334 , 118.76800125, 138.56836189, 114.31944412,\n",
              "       128.34099049, 138.22915412, 110.46730039,  75.71688423,\n",
              "       111.47353197, 167.73735643, 211.22688197, 161.23401315,\n",
              "       203.47390859, 223.2014339 , 230.86657469, 274.62163999,\n",
              "       256.27190027, 253.45251616, 259.98562443, 231.78250185,\n",
              "       269.6360884 , 314.22963581, 330.81331925, 347.81979233,\n",
              "       375.163675  , 373.45352145, 376.36295448, 401.22363297,\n",
              "       387.28321314, 389.09809466, 163.63606606, 168.21676942,\n",
              "       178.52528947, 205.75117763, 211.39761173, 163.62853599,\n",
              "       175.09911433, 196.36299484, 184.35270495, 223.14072635,\n",
              "       214.57480192, 223.07877224, 228.08434759, 245.45912531,\n",
              "       329.27845348, 302.90455933, 286.60577224, 289.70148638,\n",
              "       300.08999036, 296.68675808, 310.53083282, 276.56547346,\n",
              "       259.81672458, 268.19037356, 265.85268587, 259.25072156,\n",
              "       262.26877787, 261.61473702, 276.5728323 , 239.55275769,\n",
              "       247.38557574, 224.28106387, 252.45194038, 258.19144421,\n",
              "       259.80014543, 272.41702915, 235.83216073, 246.6343114 ,\n",
              "       251.12649776, 258.90075461, 264.4316162 , 262.01396123,\n",
              "       257.32168507, 252.61600591, 236.47206894, 240.02761662,\n",
              "       245.8758442 , 241.29090595, 261.81153532, 249.8340237 ,\n",
              "       258.55924474, 256.76893547, 244.22808045, 280.11074652,\n",
              "       255.78163809, 233.68758179, 250.45063825, 246.3761457 ,\n",
              "       243.85513702, 239.15695391, 228.43914818, 239.80256026,\n",
              "       269.00081968, 237.9916589 , 247.02263972, 233.25107513,\n",
              "       227.96275395, 215.57274471, 213.68858856, 236.47860417,\n",
              "       217.51855542, 223.23494321, 188.49055115, 218.86460812,\n",
              "       210.03451509, 221.19709632, 201.99009711, 185.67286487,\n",
              "       175.88055268, 170.48422504, 219.73479759, 214.20698548,\n",
              "       245.93490255, 239.58101904, 261.50846964, 266.18367836,\n",
              "       280.47215424, 302.91441236, 306.64687466, 296.21900685,\n",
              "       328.34072261, 330.10496071, 310.47096027, 338.72263285,\n",
              "       340.15430262, 327.50469184, 308.46407876, 287.18444441,\n",
              "       272.21334031, 245.69002477, 229.07233191, 209.07985432,\n",
              "       197.24987017, 181.5636699 , 192.10325884, 206.06497103,\n",
              "       205.31893755, 210.44622358, 202.30453495, 238.60381287,\n",
              "       283.33906004, 292.18254751, 312.82947226, 324.05588182,\n",
              "       345.99781218, 367.57565472, 409.2437928 , 402.67492588,\n",
              "       388.03736074, 411.54817289, 410.32799297, 398.75114027,\n",
              "       381.88780699, 361.00653237, 332.49143429, 300.58188095,\n",
              "       280.99784258, 279.45086358, 247.86084887, 236.44651925,\n",
              "       216.65619144, 187.87936843, 196.71364384, 189.08882846,\n",
              "       174.71322085, 173.37653096, 150.74448844, 167.5714554 ,\n",
              "       136.44899914, 146.79960095, 149.78198927, 159.32681721,\n",
              "       120.63501513, 149.74341475, 129.28446231, 291.45965855,\n",
              "       322.4942657 , 315.16652443, 353.11237485, 337.36485473,\n",
              "       348.40691272, 347.88626838, 384.36798573, 395.98381182,\n",
              "       349.31418561, 313.35927346, 246.84141456, 238.14368192,\n",
              "       228.79535831, 243.76750952, 360.56462676, 319.62884318,\n",
              "       336.96247795, 295.48700965, 236.60113306, 218.90122279,\n",
              "       214.65399617, 187.97762641, 174.26522979, 149.88606105,\n",
              "       116.52407858, 116.87610273, 124.47975731, 122.61708429,\n",
              "       132.51366808, 150.36094481, 204.60984982, 262.69497901,\n",
              "       274.54641921, 258.42965108, 263.16477614, 240.77432842,\n",
              "       214.96039942, 154.78413518, 162.03390796, 131.00995363,\n",
              "       131.15660297, 127.30721063, 144.72491414, 116.45100191,\n",
              "       119.32113321, 117.54822823, 112.93537004, 112.94547269,\n",
              "        96.72008462])"
            ]
          },
          "metadata": {
            "tags": []
          },
          "execution_count": 22
        }
      ]
    },
    {
      "cell_type": "code",
      "metadata": {
        "colab": {
          "base_uri": "https://localhost:8080/"
        },
        "id": "9unb7u_5wCn5",
        "outputId": "6cfedaba-f742-4db3-e9c1-1503b57deae1"
      },
      "source": [
        "error = np.sum((y-y_pred))\n",
        "error"
      ],
      "execution_count": null,
      "outputs": [
        {
          "output_type": "execute_result",
          "data": {
            "text/plain": [
              "1.7280399333685637e-11"
            ]
          },
          "metadata": {
            "tags": []
          },
          "execution_count": 30
        }
      ]
    },
    {
      "cell_type": "code",
      "metadata": {
        "colab": {
          "base_uri": "https://localhost:8080/",
          "height": 279
        },
        "id": "ZOsakJ8EtHlh",
        "outputId": "be2ae31e-0db2-4bcd-b7f1-569941da7b82"
      },
      "source": [
        "plt.plot(x, y_pred, color='#00ff00', label='Linear Regression')\n",
        "plt.scatter(x, y, color='#ff0000', label='Data Point')\n",
        "plt.xlabel(\"x\")\n",
        "plt.ylabel(\"y\")\n",
        "plt.legend()\n",
        "plt.show()"
      ],
      "execution_count": null,
      "outputs": [
        {
          "output_type": "display_data",
          "data": {
            "image/png": "[encoded data removed]",
            "text/plain": [
              "<Figure size 432x288 with 1 Axes>"
            ]
          },
          "metadata": {
            "tags": [],
            "needs_background": "light"
          }
        }
      ]
    },
    {
      "cell_type": "markdown",
      "metadata": {
        "id": "X9gjaWpeuqo9"
      },
      "source": [
        "#Coefficient of determination"
      ]
    },
    {
      "cell_type": "code",
      "metadata": {
        "colab": {
          "base_uri": "https://localhost:8080/"
        },
        "id": "f9kwj4k8tYef",
        "outputId": "da63bccc-46b1-4e35-df3d-99ceacec2c54"
      },
      "source": [
        "numr = np.sum((y_pred-y_mean)**2)\n",
        "denomr=np.sum((y-y_mean)**2)\n",
        "r_squared = numr/denomr\n",
        "r_squared"
      ],
      "execution_count": null,
      "outputs": [
        {
          "output_type": "execute_result",
          "data": {
            "text/plain": [
              "0.600787102941193"
            ]
          },
          "metadata": {
            "tags": []
          },
          "execution_count": 25
        }
      ]
    },
    {
      "cell_type": "code",
      "metadata": {
        "id": "9zCUVr79vTOi"
      },
      "source": [
        "df['z']= y_pred"
      ],
      "execution_count": null,
      "outputs": []
    },
    {
      "cell_type": "code",
      "metadata": {
        "colab": {
          "base_uri": "https://localhost:8080/",
          "height": 417
        },
        "id": "IvA2n-UVw9-9",
        "outputId": "56c15058-3bff-4358-ee1a-8820846a44fb"
      },
      "source": [
        "df"
      ],
      "execution_count": null,
      "outputs": [
        {
          "output_type": "execute_result",
          "data": {
            "text/html": [
              "<div>\n",
              "<style scoped>\n",
              "    .dataframe tbody tr th:only-of-type {\n",
              "        vertical-align: middle;\n",
              "    }\n",
              "\n",
              "    .dataframe tbody tr th {\n",
              "        vertical-align: top;\n",
              "    }\n",
              "\n",
              "    .dataframe thead th {\n",
              "        text-align: right;\n",
              "    }\n",
              "</style>\n",
              "<table border=\"1\" class=\"dataframe\">\n",
              "  <thead>\n",
              "    <tr style=\"text-align: right;\">\n",
              "      <th></th>\n",
              "      <th>x</th>\n",
              "      <th>y</th>\n",
              "      <th>z</th>\n",
              "    </tr>\n",
              "  </thead>\n",
              "  <tbody>\n",
              "    <tr>\n",
              "      <th>0</th>\n",
              "      <td>117.593042</td>\n",
              "      <td>101.377856</td>\n",
              "      <td>140.798182</td>\n",
              "    </tr>\n",
              "    <tr>\n",
              "      <th>1</th>\n",
              "      <td>97.426863</td>\n",
              "      <td>116.344495</td>\n",
              "      <td>130.890733</td>\n",
              "    </tr>\n",
              "    <tr>\n",
              "      <th>2</th>\n",
              "      <td>97.562923</td>\n",
              "      <td>73.212465</td>\n",
              "      <td>130.957578</td>\n",
              "    </tr>\n",
              "    <tr>\n",
              "      <th>3</th>\n",
              "      <td>68.603151</td>\n",
              "      <td>39.308131</td>\n",
              "      <td>116.729922</td>\n",
              "    </tr>\n",
              "    <tr>\n",
              "      <th>4</th>\n",
              "      <td>92.329087</td>\n",
              "      <td>111.695514</td>\n",
              "      <td>128.386245</td>\n",
              "    </tr>\n",
              "    <tr>\n",
              "      <th>...</th>\n",
              "      <td>...</td>\n",
              "      <td>...</td>\n",
              "      <td>...</td>\n",
              "    </tr>\n",
              "    <tr>\n",
              "      <th>692</th>\n",
              "      <td>73.877448</td>\n",
              "      <td>78.596780</td>\n",
              "      <td>119.321133</td>\n",
              "    </tr>\n",
              "    <tr>\n",
              "      <th>693</th>\n",
              "      <td>70.268778</td>\n",
              "      <td>35.781428</td>\n",
              "      <td>117.548228</td>\n",
              "    </tr>\n",
              "    <tr>\n",
              "      <th>694</th>\n",
              "      <td>60.879507</td>\n",
              "      <td>89.948591</td>\n",
              "      <td>112.935370</td>\n",
              "    </tr>\n",
              "    <tr>\n",
              "      <th>695</th>\n",
              "      <td>60.900070</td>\n",
              "      <td>36.343390</td>\n",
              "      <td>112.945473</td>\n",
              "    </tr>\n",
              "    <tr>\n",
              "      <th>696</th>\n",
              "      <td>27.874002</td>\n",
              "      <td>101.841348</td>\n",
              "      <td>96.720085</td>\n",
              "    </tr>\n",
              "  </tbody>\n",
              "</table>\n",
              "<p>697 rows × 3 columns</p>\n",
              "</div>"
            ],
            "text/plain": [
              "              x           y           z\n",
              "0    117.593042  101.377856  140.798182\n",
              "1     97.426863  116.344495  130.890733\n",
              "2     97.562923   73.212465  130.957578\n",
              "3     68.603151   39.308131  116.729922\n",
              "4     92.329087  111.695514  128.386245\n",
              "..          ...         ...         ...\n",
              "692   73.877448   78.596780  119.321133\n",
              "693   70.268778   35.781428  117.548228\n",
              "694   60.879507   89.948591  112.935370\n",
              "695   60.900070   36.343390  112.945473\n",
              "696   27.874002  101.841348   96.720085\n",
              "\n",
              "[697 rows x 3 columns]"
            ]
          },
          "metadata": {
            "tags": []
          },
          "execution_count": 33
        }
      ]
    },
    {
      "cell_type": "markdown",
      "metadata": {
        "id": "c-k-bsOnoewM"
      },
      "source": [
        "#Applications of linear regression\n"
      ]
    },
    {
      "cell_type": "markdown",
      "metadata": {
        "id": "MJVPdD2GokOz"
      },
      "source": [
        "*   Linear regressions can be used in business to evaluate trends and make estimates or forecasts\n",
        "*   Predicting crop yields based on the amount of rainfall\n",
        "*   Predicting the Salary of a person based on years of experience\n",
        "*   Predicting the batting score of a team based on its past performances \n",
        "\n",
        "\n",
        "\n",
        "\n",
        "\n"
      ]
    },
    {
      "cell_type": "code",
      "metadata": {
        "id": "LrUGifTGxB7e"
      },
      "source": [
        ""
      ],
      "execution_count": null,
      "outputs": []
    }
  ]
}